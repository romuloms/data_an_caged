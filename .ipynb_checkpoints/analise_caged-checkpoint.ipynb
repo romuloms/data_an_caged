{
 "cells": [
  {
   "cell_type": "code",
   "execution_count": 50,
   "id": "2b312de8-effd-4383-baa5-60b4eb89ea65",
   "metadata": {},
   "outputs": [],
   "source": [
    "import pandas as pd\n",
    "import numpy as np\n",
    "import matplotlib.pyplot as plt"
   ]
  },
  {
   "cell_type": "code",
   "execution_count": 2,
   "id": "bc686659-6e6f-4028-979a-af84bf9c439e",
   "metadata": {},
   "outputs": [],
   "source": [
    "caged = pd.read_csv('caged_dados.csv')"
   ]
  },
  {
   "cell_type": "markdown",
   "id": "5e2c75b8-f3aa-4ce6-b8d6-74e6b4131521",
   "metadata": {},
   "source": [
    "# Análises Gerais:"
   ]
  },
  {
   "cell_type": "code",
   "execution_count": 3,
   "id": "5040e548-7ba3-4a2c-9edd-8447d4e01045",
   "metadata": {},
   "outputs": [
    {
     "data": {
      "text/html": [
       "<div>\n",
       "<style scoped>\n",
       "    .dataframe tbody tr th:only-of-type {\n",
       "        vertical-align: middle;\n",
       "    }\n",
       "\n",
       "    .dataframe tbody tr th {\n",
       "        vertical-align: top;\n",
       "    }\n",
       "\n",
       "    .dataframe thead th {\n",
       "        text-align: right;\n",
       "    }\n",
       "</style>\n",
       "<table border=\"1\" class=\"dataframe\">\n",
       "  <thead>\n",
       "    <tr style=\"text-align: right;\">\n",
       "      <th></th>\n",
       "      <th>saldo_movimentacao</th>\n",
       "      <th>categoria</th>\n",
       "      <th>grau_instrucao</th>\n",
       "      <th>idade</th>\n",
       "      <th>horas_contratuais</th>\n",
       "      <th>raca_cor</th>\n",
       "      <th>sexo</th>\n",
       "      <th>tipo_movimentacao</th>\n",
       "      <th>tipo_deficiencia</th>\n",
       "      <th>salario_mensal</th>\n",
       "      <th>indicador_aprendiz</th>\n",
       "    </tr>\n",
       "  </thead>\n",
       "  <tbody>\n",
       "    <tr>\n",
       "      <th>0</th>\n",
       "      <td>-1</td>\n",
       "      <td>101</td>\n",
       "      <td>8</td>\n",
       "      <td>27</td>\n",
       "      <td>9.0</td>\n",
       "      <td>6</td>\n",
       "      <td>3</td>\n",
       "      <td>31</td>\n",
       "      <td>0</td>\n",
       "      <td>1850.00</td>\n",
       "      <td>0</td>\n",
       "    </tr>\n",
       "    <tr>\n",
       "      <th>1</th>\n",
       "      <td>-1</td>\n",
       "      <td>101</td>\n",
       "      <td>6</td>\n",
       "      <td>22</td>\n",
       "      <td>45.0</td>\n",
       "      <td>3</td>\n",
       "      <td>1</td>\n",
       "      <td>31</td>\n",
       "      <td>0</td>\n",
       "      <td>1320.00</td>\n",
       "      <td>0</td>\n",
       "    </tr>\n",
       "    <tr>\n",
       "      <th>2</th>\n",
       "      <td>-1</td>\n",
       "      <td>101</td>\n",
       "      <td>8</td>\n",
       "      <td>37</td>\n",
       "      <td>40.0</td>\n",
       "      <td>1</td>\n",
       "      <td>1</td>\n",
       "      <td>31</td>\n",
       "      <td>0</td>\n",
       "      <td>9164.10</td>\n",
       "      <td>0</td>\n",
       "    </tr>\n",
       "    <tr>\n",
       "      <th>3</th>\n",
       "      <td>-1</td>\n",
       "      <td>101</td>\n",
       "      <td>7</td>\n",
       "      <td>37</td>\n",
       "      <td>30.0</td>\n",
       "      <td>1</td>\n",
       "      <td>1</td>\n",
       "      <td>31</td>\n",
       "      <td>0</td>\n",
       "      <td>1989.40</td>\n",
       "      <td>0</td>\n",
       "    </tr>\n",
       "    <tr>\n",
       "      <th>4</th>\n",
       "      <td>-1</td>\n",
       "      <td>101</td>\n",
       "      <td>7</td>\n",
       "      <td>32</td>\n",
       "      <td>45.0</td>\n",
       "      <td>6</td>\n",
       "      <td>1</td>\n",
       "      <td>32</td>\n",
       "      <td>0</td>\n",
       "      <td>1885.62</td>\n",
       "      <td>0</td>\n",
       "    </tr>\n",
       "  </tbody>\n",
       "</table>\n",
       "</div>"
      ],
      "text/plain": [
       "   saldo_movimentacao  categoria  grau_instrucao  idade  horas_contratuais  \\\n",
       "0                  -1        101               8     27                9.0   \n",
       "1                  -1        101               6     22               45.0   \n",
       "2                  -1        101               8     37               40.0   \n",
       "3                  -1        101               7     37               30.0   \n",
       "4                  -1        101               7     32               45.0   \n",
       "\n",
       "   raca_cor  sexo  tipo_movimentacao  tipo_deficiencia  salario_mensal  \\\n",
       "0         6     3                 31                 0         1850.00   \n",
       "1         3     1                 31                 0         1320.00   \n",
       "2         1     1                 31                 0         9164.10   \n",
       "3         1     1                 31                 0         1989.40   \n",
       "4         6     1                 32                 0         1885.62   \n",
       "\n",
       "   indicador_aprendiz  \n",
       "0                   0  \n",
       "1                   0  \n",
       "2                   0  \n",
       "3                   0  \n",
       "4                   0  "
      ]
     },
     "execution_count": 3,
     "metadata": {},
     "output_type": "execute_result"
    }
   ],
   "source": [
    "caged.head()"
   ]
  },
  {
   "cell_type": "code",
   "execution_count": 4,
   "id": "f990f419-dd17-473a-93dd-fc719c757d98",
   "metadata": {},
   "outputs": [
    {
     "name": "stdout",
     "output_type": "stream",
     "text": [
      "<class 'pandas.core.frame.DataFrame'>\n",
      "RangeIndex: 9398 entries, 0 to 9397\n",
      "Data columns (total 11 columns):\n",
      " #   Column              Non-Null Count  Dtype  \n",
      "---  ------              --------------  -----  \n",
      " 0   saldo_movimentacao  9398 non-null   int64  \n",
      " 1   categoria           9398 non-null   int64  \n",
      " 2   grau_instrucao      9398 non-null   int64  \n",
      " 3   idade               9398 non-null   int64  \n",
      " 4   horas_contratuais   9384 non-null   float64\n",
      " 5   raca_cor            9398 non-null   int64  \n",
      " 6   sexo                9398 non-null   int64  \n",
      " 7   tipo_movimentacao   9398 non-null   int64  \n",
      " 8   tipo_deficiencia    9398 non-null   int64  \n",
      " 9   salario_mensal      9398 non-null   float64\n",
      " 10  indicador_aprendiz  9398 non-null   int64  \n",
      "dtypes: float64(2), int64(9)\n",
      "memory usage: 807.8 KB\n"
     ]
    }
   ],
   "source": [
    "caged.info()"
   ]
  },
  {
   "cell_type": "code",
   "execution_count": 5,
   "id": "f9b4114f-a06b-4bdd-b82f-9d83e730fcce",
   "metadata": {},
   "outputs": [
    {
     "data": {
      "text/plain": [
       "2058.447096190679"
      ]
     },
     "execution_count": 5,
     "metadata": {},
     "output_type": "execute_result"
    }
   ],
   "source": [
    "caged['salario_mensal'].mean()"
   ]
  },
  {
   "cell_type": "code",
   "execution_count": 6,
   "id": "b1ca9606-01f7-4991-9337-f75b78b773f4",
   "metadata": {},
   "outputs": [
    {
     "data": {
      "text/plain": [
       "414836.4"
      ]
     },
     "execution_count": 6,
     "metadata": {},
     "output_type": "execute_result"
    }
   ],
   "source": [
    "caged['salario_mensal'].max()"
   ]
  },
  {
   "cell_type": "code",
   "execution_count": 7,
   "id": "fae415ed-a3ec-48e7-9fbd-55d384b173ef",
   "metadata": {},
   "outputs": [
    {
     "data": {
      "text/plain": [
       "0.0"
      ]
     },
     "execution_count": 7,
     "metadata": {},
     "output_type": "execute_result"
    }
   ],
   "source": [
    "caged['salario_mensal'].min()"
   ]
  },
  {
   "cell_type": "code",
   "execution_count": 34,
   "id": "92303dfe-5902-4fd9-9c86-bbbefe622b3e",
   "metadata": {},
   "outputs": [
    {
     "data": {
      "text/plain": [
       "8456         0.01\n",
       "8656         5.92\n",
       "5609         5.92\n",
       "2065         5.92\n",
       "4839         5.92\n",
       "          ...    \n",
       "8862    302500.00\n",
       "6422    309249.60\n",
       "4825    320980.00\n",
       "3823    321057.00\n",
       "966     414836.40\n",
       "Name: salario_mensal, Length: 9282, dtype: float64"
      ]
     },
     "execution_count": 34,
     "metadata": {},
     "output_type": "execute_result"
    }
   ],
   "source": [
    "caged[caged['salario_mensal'] != 0]['salario_mensal'].sort_values()\n",
    "#.head()"
   ]
  },
  {
   "cell_type": "code",
   "execution_count": 9,
   "id": "ed21c150-005d-435e-9da0-5d1e751b0d38",
   "metadata": {},
   "outputs": [
    {
     "data": {
      "text/html": [
       "<div>\n",
       "<style scoped>\n",
       "    .dataframe tbody tr th:only-of-type {\n",
       "        vertical-align: middle;\n",
       "    }\n",
       "\n",
       "    .dataframe tbody tr th {\n",
       "        vertical-align: top;\n",
       "    }\n",
       "\n",
       "    .dataframe thead th {\n",
       "        text-align: right;\n",
       "    }\n",
       "</style>\n",
       "<table border=\"1\" class=\"dataframe\">\n",
       "  <thead>\n",
       "    <tr style=\"text-align: right;\">\n",
       "      <th></th>\n",
       "      <th>saldo_movimentacao</th>\n",
       "      <th>categoria</th>\n",
       "      <th>grau_instrucao</th>\n",
       "      <th>idade</th>\n",
       "      <th>horas_contratuais</th>\n",
       "      <th>raca_cor</th>\n",
       "      <th>sexo</th>\n",
       "      <th>tipo_movimentacao</th>\n",
       "      <th>tipo_deficiencia</th>\n",
       "      <th>salario_mensal</th>\n",
       "      <th>indicador_aprendiz</th>\n",
       "    </tr>\n",
       "  </thead>\n",
       "  <tbody>\n",
       "    <tr>\n",
       "      <th>966</th>\n",
       "      <td>-1</td>\n",
       "      <td>101</td>\n",
       "      <td>5</td>\n",
       "      <td>52</td>\n",
       "      <td>44.0</td>\n",
       "      <td>3</td>\n",
       "      <td>1</td>\n",
       "      <td>60</td>\n",
       "      <td>0</td>\n",
       "      <td>414836.4</td>\n",
       "      <td>0</td>\n",
       "    </tr>\n",
       "    <tr>\n",
       "      <th>3823</th>\n",
       "      <td>-1</td>\n",
       "      <td>101</td>\n",
       "      <td>7</td>\n",
       "      <td>26</td>\n",
       "      <td>44.0</td>\n",
       "      <td>3</td>\n",
       "      <td>1</td>\n",
       "      <td>32</td>\n",
       "      <td>0</td>\n",
       "      <td>321057.0</td>\n",
       "      <td>0</td>\n",
       "    </tr>\n",
       "    <tr>\n",
       "      <th>4825</th>\n",
       "      <td>-1</td>\n",
       "      <td>101</td>\n",
       "      <td>7</td>\n",
       "      <td>26</td>\n",
       "      <td>44.0</td>\n",
       "      <td>3</td>\n",
       "      <td>1</td>\n",
       "      <td>40</td>\n",
       "      <td>0</td>\n",
       "      <td>320980.0</td>\n",
       "      <td>0</td>\n",
       "    </tr>\n",
       "  </tbody>\n",
       "</table>\n",
       "</div>"
      ],
      "text/plain": [
       "      saldo_movimentacao  categoria  grau_instrucao  idade  horas_contratuais  \\\n",
       "966                   -1        101               5     52               44.0   \n",
       "3823                  -1        101               7     26               44.0   \n",
       "4825                  -1        101               7     26               44.0   \n",
       "\n",
       "      raca_cor  sexo  tipo_movimentacao  tipo_deficiencia  salario_mensal  \\\n",
       "966          3     1                 60                 0        414836.4   \n",
       "3823         3     1                 32                 0        321057.0   \n",
       "4825         3     1                 40                 0        320980.0   \n",
       "\n",
       "      indicador_aprendiz  \n",
       "966                    0  \n",
       "3823                   0  \n",
       "4825                   0  "
      ]
     },
     "execution_count": 9,
     "metadata": {},
     "output_type": "execute_result"
    }
   ],
   "source": [
    "maiores_salarios = caged.sort_values(by='salario_mensal', ascending=False)\n",
    "maiores_salarios.head(3)"
   ]
  },
  {
   "cell_type": "code",
   "execution_count": 10,
   "id": "1bfc68f1-2de0-4d5f-993a-bc5668f5bd94",
   "metadata": {},
   "outputs": [
    {
     "data": {
      "text/html": [
       "<div>\n",
       "<style scoped>\n",
       "    .dataframe tbody tr th:only-of-type {\n",
       "        vertical-align: middle;\n",
       "    }\n",
       "\n",
       "    .dataframe tbody tr th {\n",
       "        vertical-align: top;\n",
       "    }\n",
       "\n",
       "    .dataframe thead th {\n",
       "        text-align: right;\n",
       "    }\n",
       "</style>\n",
       "<table border=\"1\" class=\"dataframe\">\n",
       "  <thead>\n",
       "    <tr style=\"text-align: right;\">\n",
       "      <th></th>\n",
       "      <th>saldo_movimentacao</th>\n",
       "      <th>categoria</th>\n",
       "      <th>grau_instrucao</th>\n",
       "      <th>idade</th>\n",
       "      <th>horas_contratuais</th>\n",
       "      <th>raca_cor</th>\n",
       "      <th>sexo</th>\n",
       "      <th>tipo_movimentacao</th>\n",
       "      <th>tipo_deficiencia</th>\n",
       "      <th>salario_mensal</th>\n",
       "      <th>indicador_aprendiz</th>\n",
       "    </tr>\n",
       "  </thead>\n",
       "  <tbody>\n",
       "    <tr>\n",
       "      <th>0</th>\n",
       "      <td>-1</td>\n",
       "      <td>101</td>\n",
       "      <td>8</td>\n",
       "      <td>27</td>\n",
       "      <td>9.0</td>\n",
       "      <td>6</td>\n",
       "      <td>3</td>\n",
       "      <td>31</td>\n",
       "      <td>0</td>\n",
       "      <td>1850.0</td>\n",
       "      <td>0</td>\n",
       "    </tr>\n",
       "    <tr>\n",
       "      <th>1</th>\n",
       "      <td>-1</td>\n",
       "      <td>101</td>\n",
       "      <td>6</td>\n",
       "      <td>22</td>\n",
       "      <td>45.0</td>\n",
       "      <td>3</td>\n",
       "      <td>1</td>\n",
       "      <td>31</td>\n",
       "      <td>0</td>\n",
       "      <td>1320.0</td>\n",
       "      <td>0</td>\n",
       "    </tr>\n",
       "  </tbody>\n",
       "</table>\n",
       "</div>"
      ],
      "text/plain": [
       "   saldo_movimentacao  categoria  grau_instrucao  idade  horas_contratuais  \\\n",
       "0                  -1        101               8     27                9.0   \n",
       "1                  -1        101               6     22               45.0   \n",
       "\n",
       "   raca_cor  sexo  tipo_movimentacao  tipo_deficiencia  salario_mensal  \\\n",
       "0         6     3                 31                 0          1850.0   \n",
       "1         3     1                 31                 0          1320.0   \n",
       "\n",
       "   indicador_aprendiz  \n",
       "0                   0  \n",
       "1                   0  "
      ]
     },
     "execution_count": 10,
     "metadata": {},
     "output_type": "execute_result"
    }
   ],
   "source": [
    "desligamentos = caged[caged['saldo_movimentacao'] == -1]\n",
    "desligamentos.head(2)"
   ]
  },
  {
   "cell_type": "code",
   "execution_count": 11,
   "id": "a232f7d8-a20c-433d-847a-0e464f09c718",
   "metadata": {},
   "outputs": [
    {
     "data": {
      "text/plain": [
       "array([97, 35])"
      ]
     },
     "execution_count": 11,
     "metadata": {},
     "output_type": "execute_result"
    }
   ],
   "source": [
    "admissoes = caged[caged['saldo_movimentacao'] == 1]\n",
    "# admissoes.head()\n",
    "admissoes['tipo_movimentacao'].unique()"
   ]
  },
  {
   "cell_type": "code",
   "execution_count": 12,
   "id": "ce143268-c0b4-482e-8933-d4b8ead1adc2",
   "metadata": {},
   "outputs": [
    {
     "data": {
      "text/html": [
       "<div>\n",
       "<style scoped>\n",
       "    .dataframe tbody tr th:only-of-type {\n",
       "        vertical-align: middle;\n",
       "    }\n",
       "\n",
       "    .dataframe tbody tr th {\n",
       "        vertical-align: top;\n",
       "    }\n",
       "\n",
       "    .dataframe thead th {\n",
       "        text-align: right;\n",
       "    }\n",
       "</style>\n",
       "<table border=\"1\" class=\"dataframe\">\n",
       "  <thead>\n",
       "    <tr style=\"text-align: right;\">\n",
       "      <th></th>\n",
       "      <th>saldo_movimentacao</th>\n",
       "      <th>categoria</th>\n",
       "      <th>grau_instrucao</th>\n",
       "      <th>idade</th>\n",
       "      <th>horas_contratuais</th>\n",
       "      <th>raca_cor</th>\n",
       "      <th>sexo</th>\n",
       "      <th>tipo_movimentacao</th>\n",
       "      <th>tipo_deficiencia</th>\n",
       "      <th>salario_mensal</th>\n",
       "      <th>indicador_aprendiz</th>\n",
       "    </tr>\n",
       "  </thead>\n",
       "  <tbody>\n",
       "    <tr>\n",
       "      <th>966</th>\n",
       "      <td>-1</td>\n",
       "      <td>101</td>\n",
       "      <td>5</td>\n",
       "      <td>52</td>\n",
       "      <td>44.0</td>\n",
       "      <td>3</td>\n",
       "      <td>1</td>\n",
       "      <td>60</td>\n",
       "      <td>0</td>\n",
       "      <td>414836.4</td>\n",
       "      <td>0</td>\n",
       "    </tr>\n",
       "    <tr>\n",
       "      <th>3823</th>\n",
       "      <td>-1</td>\n",
       "      <td>101</td>\n",
       "      <td>7</td>\n",
       "      <td>26</td>\n",
       "      <td>44.0</td>\n",
       "      <td>3</td>\n",
       "      <td>1</td>\n",
       "      <td>32</td>\n",
       "      <td>0</td>\n",
       "      <td>321057.0</td>\n",
       "      <td>0</td>\n",
       "    </tr>\n",
       "  </tbody>\n",
       "</table>\n",
       "</div>"
      ],
      "text/plain": [
       "      saldo_movimentacao  categoria  grau_instrucao  idade  horas_contratuais  \\\n",
       "966                   -1        101               5     52               44.0   \n",
       "3823                  -1        101               7     26               44.0   \n",
       "\n",
       "      raca_cor  sexo  tipo_movimentacao  tipo_deficiencia  salario_mensal  \\\n",
       "966          3     1                 60                 0        414836.4   \n",
       "3823         3     1                 32                 0        321057.0   \n",
       "\n",
       "      indicador_aprendiz  \n",
       "966                    0  \n",
       "3823                   0  "
      ]
     },
     "execution_count": 12,
     "metadata": {},
     "output_type": "execute_result"
    }
   ],
   "source": [
    "maiores_sal_desl = desligamentos.sort_values(by='salario_mensal', ascending=False)\n",
    "maiores_sal_desl.head(2)"
   ]
  },
  {
   "cell_type": "code",
   "execution_count": 13,
   "id": "f5e1dc80-2cc2-4910-bc40-3de291e153e3",
   "metadata": {},
   "outputs": [
    {
     "data": {
      "text/html": [
       "<div>\n",
       "<style scoped>\n",
       "    .dataframe tbody tr th:only-of-type {\n",
       "        vertical-align: middle;\n",
       "    }\n",
       "\n",
       "    .dataframe tbody tr th {\n",
       "        vertical-align: top;\n",
       "    }\n",
       "\n",
       "    .dataframe thead th {\n",
       "        text-align: right;\n",
       "    }\n",
       "</style>\n",
       "<table border=\"1\" class=\"dataframe\">\n",
       "  <thead>\n",
       "    <tr style=\"text-align: right;\">\n",
       "      <th></th>\n",
       "      <th>saldo_movimentacao</th>\n",
       "      <th>categoria</th>\n",
       "      <th>grau_instrucao</th>\n",
       "      <th>idade</th>\n",
       "      <th>horas_contratuais</th>\n",
       "      <th>raca_cor</th>\n",
       "      <th>sexo</th>\n",
       "      <th>tipo_movimentacao</th>\n",
       "      <th>tipo_deficiencia</th>\n",
       "      <th>salario_mensal</th>\n",
       "      <th>indicador_aprendiz</th>\n",
       "    </tr>\n",
       "  </thead>\n",
       "  <tbody>\n",
       "    <tr>\n",
       "      <th>8862</th>\n",
       "      <td>1</td>\n",
       "      <td>101</td>\n",
       "      <td>7</td>\n",
       "      <td>26</td>\n",
       "      <td>44.0</td>\n",
       "      <td>3</td>\n",
       "      <td>1</td>\n",
       "      <td>97</td>\n",
       "      <td>0</td>\n",
       "      <td>302500.0</td>\n",
       "      <td>0</td>\n",
       "    </tr>\n",
       "    <tr>\n",
       "      <th>8216</th>\n",
       "      <td>1</td>\n",
       "      <td>101</td>\n",
       "      <td>7</td>\n",
       "      <td>34</td>\n",
       "      <td>44.0</td>\n",
       "      <td>3</td>\n",
       "      <td>3</td>\n",
       "      <td>97</td>\n",
       "      <td>0</td>\n",
       "      <td>286440.0</td>\n",
       "      <td>0</td>\n",
       "    </tr>\n",
       "  </tbody>\n",
       "</table>\n",
       "</div>"
      ],
      "text/plain": [
       "      saldo_movimentacao  categoria  grau_instrucao  idade  horas_contratuais  \\\n",
       "8862                   1        101               7     26               44.0   \n",
       "8216                   1        101               7     34               44.0   \n",
       "\n",
       "      raca_cor  sexo  tipo_movimentacao  tipo_deficiencia  salario_mensal  \\\n",
       "8862         3     1                 97                 0        302500.0   \n",
       "8216         3     3                 97                 0        286440.0   \n",
       "\n",
       "      indicador_aprendiz  \n",
       "8862                   0  \n",
       "8216                   0  "
      ]
     },
     "execution_count": 13,
     "metadata": {},
     "output_type": "execute_result"
    }
   ],
   "source": [
    "maiores_sal_adm = admissoes.sort_values(by='salario_mensal', ascending=False)\n",
    "maiores_sal_adm.head(2)"
   ]
  },
  {
   "cell_type": "code",
   "execution_count": 14,
   "id": "7bee5d23-b997-4e8c-a5da-a040aba447b2",
   "metadata": {},
   "outputs": [],
   "source": [
    "dicionario = pd.read_csv('caged_dicionario.csv')"
   ]
  },
  {
   "cell_type": "markdown",
   "id": "b10ecae9-a142-491d-acf2-37e8dc93074f",
   "metadata": {},
   "source": [
    "#### Mesclando as tabelas para melhorar a visualização:"
   ]
  },
  {
   "cell_type": "code",
   "execution_count": 15,
   "id": "a9c4a6bb-adc3-401c-b55e-991327bfaa46",
   "metadata": {},
   "outputs": [
    {
     "data": {
      "text/html": [
       "<div>\n",
       "<style scoped>\n",
       "    .dataframe tbody tr th:only-of-type {\n",
       "        vertical-align: middle;\n",
       "    }\n",
       "\n",
       "    .dataframe tbody tr th {\n",
       "        vertical-align: top;\n",
       "    }\n",
       "\n",
       "    .dataframe thead th {\n",
       "        text-align: right;\n",
       "    }\n",
       "</style>\n",
       "<table border=\"1\" class=\"dataframe\">\n",
       "  <thead>\n",
       "    <tr style=\"text-align: right;\">\n",
       "      <th></th>\n",
       "      <th>saldo_movimentacao</th>\n",
       "      <th>categoria</th>\n",
       "      <th>grau_instrucao</th>\n",
       "      <th>idade</th>\n",
       "      <th>horas_contratuais</th>\n",
       "      <th>raca_cor</th>\n",
       "      <th>sexo</th>\n",
       "      <th>tipo_movimentacao</th>\n",
       "      <th>tipo_deficiencia</th>\n",
       "      <th>salario_mensal</th>\n",
       "      <th>indicador_aprendiz</th>\n",
       "    </tr>\n",
       "  </thead>\n",
       "  <tbody>\n",
       "    <tr>\n",
       "      <th>0</th>\n",
       "      <td>Desligamento</td>\n",
       "      <td>Empregado - Geral, Inclusive O Empregado Públi...</td>\n",
       "      <td>Superior Incompleto</td>\n",
       "      <td>27</td>\n",
       "      <td>9.0</td>\n",
       "      <td>Não Informada</td>\n",
       "      <td>Mulher</td>\n",
       "      <td>Desligamento Por Demissão Sem Justa Causa</td>\n",
       "      <td>Não Deficiente</td>\n",
       "      <td>1850.0</td>\n",
       "      <td>0</td>\n",
       "    </tr>\n",
       "    <tr>\n",
       "      <th>1</th>\n",
       "      <td>Desligamento</td>\n",
       "      <td>Empregado - Geral, Inclusive O Empregado Públi...</td>\n",
       "      <td>Médio Incompleto</td>\n",
       "      <td>22</td>\n",
       "      <td>45.0</td>\n",
       "      <td>Parda</td>\n",
       "      <td>Homem</td>\n",
       "      <td>Desligamento Por Demissão Sem Justa Causa</td>\n",
       "      <td>Não Deficiente</td>\n",
       "      <td>1320.0</td>\n",
       "      <td>0</td>\n",
       "    </tr>\n",
       "  </tbody>\n",
       "</table>\n",
       "</div>"
      ],
      "text/plain": [
       "  saldo_movimentacao                                          categoria  \\\n",
       "0       Desligamento  Empregado - Geral, Inclusive O Empregado Públi...   \n",
       "1       Desligamento  Empregado - Geral, Inclusive O Empregado Públi...   \n",
       "\n",
       "        grau_instrucao  idade  horas_contratuais       raca_cor    sexo  \\\n",
       "0  Superior Incompleto     27                9.0  Não Informada  Mulher   \n",
       "1     Médio Incompleto     22               45.0          Parda   Homem   \n",
       "\n",
       "                           tipo_movimentacao tipo_deficiencia  salario_mensal  \\\n",
       "0  Desligamento Por Demissão Sem Justa Causa   Não Deficiente          1850.0   \n",
       "1  Desligamento Por Demissão Sem Justa Causa   Não Deficiente          1320.0   \n",
       "\n",
       "   indicador_aprendiz  \n",
       "0                   0  \n",
       "1                   0  "
      ]
     },
     "execution_count": 15,
     "metadata": {},
     "output_type": "execute_result"
    }
   ],
   "source": [
    "caged_descrito = pd.read_csv('caged_dados.csv')\n",
    "\n",
    "for coluna in dicionario['coluna'].unique():\n",
    "    filtro_coluna = dicionario['coluna'] == coluna\n",
    "    caged_descrito[coluna] = caged_descrito[coluna].replace(dicionario[filtro_coluna].set_index('chave')['valor'])\n",
    "\n",
    "caged_descrito.head(2)"
   ]
  },
  {
   "cell_type": "code",
   "execution_count": 16,
   "id": "933f74b8-3488-4ce3-8507-99ee05e74866",
   "metadata": {},
   "outputs": [
    {
     "data": {
      "text/plain": [
       "raca_cor\n",
       "Parda               4361\n",
       "Não Informada       3310\n",
       "Branca              1295\n",
       "Preta                366\n",
       "Amarela               37\n",
       "Indígena              15\n",
       "Não Identificado      14\n",
       "Name: count, dtype: int64"
      ]
     },
     "execution_count": 16,
     "metadata": {},
     "output_type": "execute_result"
    }
   ],
   "source": [
    "caged_descrito['raca_cor'].value_counts()"
   ]
  },
  {
   "cell_type": "code",
   "execution_count": 17,
   "id": "7a513171-bb4b-4c0f-9d92-7880a58bd214",
   "metadata": {},
   "outputs": [
    {
     "data": {
      "text/plain": [
       "saldo_movimentacao\n",
       "Admissão        5134\n",
       "Desligamento    4264\n",
       "Name: count, dtype: int64"
      ]
     },
     "execution_count": 17,
     "metadata": {},
     "output_type": "execute_result"
    }
   ],
   "source": [
    "caged_descrito['saldo_movimentacao'].value_counts()"
   ]
  },
  {
   "cell_type": "code",
   "execution_count": 18,
   "id": "809a4ac8-d164-483f-9c1e-15a2be9344e9",
   "metadata": {},
   "outputs": [
    {
     "name": "stdout",
     "output_type": "stream",
     "text": [
      "saldo_movimentacao\n",
      "Admissão        5134\n",
      "Desligamento    4264\n",
      "Name: count, dtype: int64\n",
      "categoria\n",
      "Empregado - Geral, Inclusive O Empregado Público Da Administração Direta Ou Indireta Contratado Pela Clt    8970\n",
      "Empregado - Aprendiz                                                                                         222\n",
      "Empregado - Contrato De Trabalho Intermitente                                                                105\n",
      "Empregado - Contrato A Termo Firmado Nos Termos Da Lei 9.601/1998                                             83\n",
      "Não Identificado                                                                                              14\n",
      "Trabalhador Temporário - Contrato Nos Termos Da Lei 6.019/1974                                                 4\n",
      "Name: count, dtype: int64\n",
      "grau_instrucao\n",
      "Médio Completo             6380\n",
      "Superior Completo           861\n",
      "Médio Incompleto            589\n",
      "Fundamental Completo        443\n",
      "Superior Incompleto         335\n",
      "6ª A 9ª Fundamental         319\n",
      "Até 5ª Incompleto           239\n",
      "5ª Completo Fundamental     100\n",
      "Pós-Graduação Completa       87\n",
      "Mestrado                     25\n",
      "Analfabeto                   13\n",
      "Doutorado                     7\n",
      "Name: count, dtype: int64\n",
      "idade\n",
      "24    403\n",
      "27    399\n",
      "26    398\n",
      "23    395\n",
      "25    378\n",
      "29    351\n",
      "28    342\n",
      "21    325\n",
      "31    316\n",
      "22    315\n",
      "30    311\n",
      "33    300\n",
      "34    292\n",
      "32    291\n",
      "36    287\n",
      "19    283\n",
      "35    280\n",
      "20    280\n",
      "37    265\n",
      "38    255\n",
      "39    250\n",
      "40    244\n",
      "41    218\n",
      "42    203\n",
      "18    202\n",
      "44    190\n",
      "43    182\n",
      "45    175\n",
      "46    139\n",
      "47    138\n",
      "48    121\n",
      "49    111\n",
      "50     99\n",
      "51     81\n",
      "53     81\n",
      "52     71\n",
      "54     63\n",
      "56     47\n",
      "55     45\n",
      "58     45\n",
      "57     44\n",
      "17     33\n",
      "59     29\n",
      "16     19\n",
      "62     18\n",
      "60     16\n",
      "61     14\n",
      "64     13\n",
      "63      9\n",
      "65      7\n",
      "15      7\n",
      "14      4\n",
      "69      4\n",
      "68      3\n",
      "73      3\n",
      "78      1\n",
      "66      1\n",
      "70      1\n",
      "71      1\n",
      "Name: count, dtype: int64\n",
      "horas_contratuais\n",
      "44.00    6675\n",
      "40.00     567\n",
      "36.00     388\n",
      "45.00     360\n",
      "48.00     321\n",
      "         ... \n",
      "52.82       1\n",
      "38.75       1\n",
      "34.95       1\n",
      "6.00        1\n",
      "45.10       1\n",
      "Name: count, Length: 134, dtype: int64\n",
      "raca_cor\n",
      "Parda               4361\n",
      "Não Informada       3310\n",
      "Branca              1295\n",
      "Preta                366\n",
      "Amarela               37\n",
      "Indígena              15\n",
      "Não Identificado      14\n",
      "Name: count, dtype: int64\n",
      "sexo\n",
      "Homem     5816\n",
      "Mulher    3582\n",
      "Name: count, dtype: int64\n",
      "tipo_movimentacao\n",
      "97                                                      5130\n",
      "Desligamento Por Demissão Sem Justa Causa               2500\n",
      "Desligamento A Pedido                                    986\n",
      "Término Contrato Trabalho Prazo Determinado              539\n",
      "Desligamento Por Acordo Entre Empregado E Empregador     108\n",
      "Desligamento Por Demissão Com Justa Causa                100\n",
      "Desligamento Por Morte                                    23\n",
      "Desligamento De Tipo Ignorado                              5\n",
      "Admissão Por Reintegração                                  4\n",
      "Culpa Recíproca                                            3\n",
      "Name: count, dtype: int64\n",
      "tipo_deficiencia\n",
      "Não Deficiente          9320\n",
      "Física                    45\n",
      "Visual                    19\n",
      "Auditiva                  11\n",
      "Intelectual (Mental)       2\n",
      "Múltipla                   1\n",
      "Name: count, dtype: int64\n",
      "salario_mensal\n",
      "1302.00    2153\n",
      "1375.00     964\n",
      "1320.00     580\n",
      "1885.62     499\n",
      "1303.11     185\n",
      "           ... \n",
      "1725.00       1\n",
      "1715.00       1\n",
      "704.97        1\n",
      "1626.00       1\n",
      "3250.00       1\n",
      "Name: count, Length: 1533, dtype: int64\n",
      "indicador_aprendiz\n",
      "0    9176\n",
      "1     222\n",
      "Name: count, dtype: int64\n"
     ]
    }
   ],
   "source": [
    "for col in caged_descrito:\n",
    "    counts = caged_descrito[col].value_counts()\n",
    "    print(counts)"
   ]
  },
  {
   "cell_type": "code",
   "execution_count": 19,
   "id": "a7ea01f2-c951-427b-8fe9-a64412364647",
   "metadata": {},
   "outputs": [
    {
     "data": {
      "text/plain": [
       "tipo_movimentacao\n",
       "97    5130\n",
       "31    2500\n",
       "40     986\n",
       "43     539\n",
       "90     108\n",
       "32     100\n",
       "60      23\n",
       "98       5\n",
       "35       4\n",
       "33       3\n",
       "Name: count, dtype: int64"
      ]
     },
     "execution_count": 19,
     "metadata": {},
     "output_type": "execute_result"
    }
   ],
   "source": [
    "caged['tipo_movimentacao'].value_counts()"
   ]
  },
  {
   "cell_type": "code",
   "execution_count": 20,
   "id": "27e63aef-c8b9-449b-81e7-ed5bef7f2e2f",
   "metadata": {},
   "outputs": [
    {
     "data": {
      "text/plain": [
       "tipo_movimentacao\n",
       "97                                                      5130\n",
       "Desligamento Por Demissão Sem Justa Causa               2500\n",
       "Desligamento A Pedido                                    986\n",
       "Término Contrato Trabalho Prazo Determinado              539\n",
       "Desligamento Por Acordo Entre Empregado E Empregador     108\n",
       "Desligamento Por Demissão Com Justa Causa                100\n",
       "Desligamento Por Morte                                    23\n",
       "Desligamento De Tipo Ignorado                              5\n",
       "Admissão Por Reintegração                                  4\n",
       "Culpa Recíproca                                            3\n",
       "Name: count, dtype: int64"
      ]
     },
     "execution_count": 20,
     "metadata": {},
     "output_type": "execute_result"
    }
   ],
   "source": [
    "caged_descrito['tipo_movimentacao'].value_counts(dropna=False)"
   ]
  },
  {
   "cell_type": "code",
   "execution_count": 21,
   "id": "62b96473-0fd4-43f3-9276-62d761085d0d",
   "metadata": {},
   "outputs": [
    {
     "data": {
      "text/plain": [
       "tipo_movimentacao\n",
       "Admissão não detalhada                                  5130\n",
       "Desligamento Por Demissão Sem Justa Causa               2500\n",
       "Desligamento A Pedido                                    986\n",
       "Término Contrato Trabalho Prazo Determinado              539\n",
       "Desligamento Por Acordo Entre Empregado E Empregador     108\n",
       "Desligamento Por Demissão Com Justa Causa                100\n",
       "Desligamento Por Morte                                    23\n",
       "Desligamento De Tipo Ignorado                              5\n",
       "Admissão Por Reintegração                                  4\n",
       "Culpa Recíproca                                            3\n",
       "Name: count, dtype: int64"
      ]
     },
     "execution_count": 21,
     "metadata": {},
     "output_type": "execute_result"
    }
   ],
   "source": [
    "# caged_descrito[coluna] = caged_descrito[coluna].replace(dicionario[filtro_coluna].set_index('chave')['valor'])\n",
    "caged_descrito['tipo_movimentacao'] = caged_descrito['tipo_movimentacao'].replace(97, 'Admissão não detalhada')\n",
    "caged_descrito['tipo_movimentacao'].value_counts(dropna=False)"
   ]
  },
  {
   "cell_type": "code",
   "execution_count": 22,
   "id": "786f3116-4c04-47b7-b060-cd6bd270ee74",
   "metadata": {},
   "outputs": [
    {
     "data": {
      "text/plain": [
       "salario_mensal\n",
       "1302.00    2153\n",
       "1375.00     964\n",
       "1320.00     580\n",
       "1885.62     499\n",
       "1303.11     185\n",
       "           ... \n",
       "1725.00       1\n",
       "1715.00       1\n",
       "704.97        1\n",
       "1626.00       1\n",
       "3250.00       1\n",
       "Name: count, Length: 1533, dtype: int64"
      ]
     },
     "execution_count": 22,
     "metadata": {},
     "output_type": "execute_result"
    }
   ],
   "source": [
    "caged_descrito['salario_mensal'].value_counts(dropna=False)"
   ]
  },
  {
   "cell_type": "markdown",
   "id": "f297d841-cfc1-4c42-ac08-fb0181f05418",
   "metadata": {},
   "source": [
    "## Análises específicas:"
   ]
  },
  {
   "cell_type": "code",
   "execution_count": 23,
   "id": "0e7fbe42-e02e-42de-a55a-9227771bff1b",
   "metadata": {},
   "outputs": [
    {
     "data": {
      "text/html": [
       "<div>\n",
       "<style scoped>\n",
       "    .dataframe tbody tr th:only-of-type {\n",
       "        vertical-align: middle;\n",
       "    }\n",
       "\n",
       "    .dataframe tbody tr th {\n",
       "        vertical-align: top;\n",
       "    }\n",
       "\n",
       "    .dataframe thead th {\n",
       "        text-align: right;\n",
       "    }\n",
       "</style>\n",
       "<table border=\"1\" class=\"dataframe\">\n",
       "  <thead>\n",
       "    <tr style=\"text-align: right;\">\n",
       "      <th></th>\n",
       "      <th>saldo_movimentacao</th>\n",
       "      <th>categoria</th>\n",
       "      <th>grau_instrucao</th>\n",
       "      <th>idade</th>\n",
       "      <th>horas_contratuais</th>\n",
       "      <th>raca_cor</th>\n",
       "      <th>sexo</th>\n",
       "      <th>tipo_movimentacao</th>\n",
       "      <th>tipo_deficiencia</th>\n",
       "      <th>salario_mensal</th>\n",
       "      <th>indicador_aprendiz</th>\n",
       "    </tr>\n",
       "  </thead>\n",
       "  <tbody>\n",
       "    <tr>\n",
       "      <th>0</th>\n",
       "      <td>Desligamento</td>\n",
       "      <td>Empregado - Geral, Inclusive O Empregado Públi...</td>\n",
       "      <td>Superior Incompleto</td>\n",
       "      <td>27</td>\n",
       "      <td>9.0</td>\n",
       "      <td>Não Informada</td>\n",
       "      <td>Mulher</td>\n",
       "      <td>Desligamento Por Demissão Sem Justa Causa</td>\n",
       "      <td>Não Deficiente</td>\n",
       "      <td>1850.0</td>\n",
       "      <td>0</td>\n",
       "    </tr>\n",
       "    <tr>\n",
       "      <th>1</th>\n",
       "      <td>Desligamento</td>\n",
       "      <td>Empregado - Geral, Inclusive O Empregado Públi...</td>\n",
       "      <td>Médio Incompleto</td>\n",
       "      <td>22</td>\n",
       "      <td>45.0</td>\n",
       "      <td>Parda</td>\n",
       "      <td>Homem</td>\n",
       "      <td>Desligamento Por Demissão Sem Justa Causa</td>\n",
       "      <td>Não Deficiente</td>\n",
       "      <td>1320.0</td>\n",
       "      <td>0</td>\n",
       "    </tr>\n",
       "  </tbody>\n",
       "</table>\n",
       "</div>"
      ],
      "text/plain": [
       "  saldo_movimentacao                                          categoria  \\\n",
       "0       Desligamento  Empregado - Geral, Inclusive O Empregado Públi...   \n",
       "1       Desligamento  Empregado - Geral, Inclusive O Empregado Públi...   \n",
       "\n",
       "        grau_instrucao  idade  horas_contratuais       raca_cor    sexo  \\\n",
       "0  Superior Incompleto     27                9.0  Não Informada  Mulher   \n",
       "1     Médio Incompleto     22               45.0          Parda   Homem   \n",
       "\n",
       "                           tipo_movimentacao tipo_deficiencia  salario_mensal  \\\n",
       "0  Desligamento Por Demissão Sem Justa Causa   Não Deficiente          1850.0   \n",
       "1  Desligamento Por Demissão Sem Justa Causa   Não Deficiente          1320.0   \n",
       "\n",
       "   indicador_aprendiz  \n",
       "0                   0  \n",
       "1                   0  "
      ]
     },
     "execution_count": 23,
     "metadata": {},
     "output_type": "execute_result"
    }
   ],
   "source": [
    "desl_desc = caged_descrito[caged_descrito['saldo_movimentacao'] == 'Desligamento']\n",
    "desl_desc.head(2)"
   ]
  },
  {
   "cell_type": "code",
   "execution_count": 24,
   "id": "92d31844-3cc2-4a35-ae2e-eecf9b935e0d",
   "metadata": {},
   "outputs": [
    {
     "data": {
      "text/html": [
       "<div>\n",
       "<style scoped>\n",
       "    .dataframe tbody tr th:only-of-type {\n",
       "        vertical-align: middle;\n",
       "    }\n",
       "\n",
       "    .dataframe tbody tr th {\n",
       "        vertical-align: top;\n",
       "    }\n",
       "\n",
       "    .dataframe thead th {\n",
       "        text-align: right;\n",
       "    }\n",
       "</style>\n",
       "<table border=\"1\" class=\"dataframe\">\n",
       "  <thead>\n",
       "    <tr style=\"text-align: right;\">\n",
       "      <th></th>\n",
       "      <th>saldo_movimentacao</th>\n",
       "      <th>categoria</th>\n",
       "      <th>grau_instrucao</th>\n",
       "      <th>idade</th>\n",
       "      <th>horas_contratuais</th>\n",
       "      <th>raca_cor</th>\n",
       "      <th>sexo</th>\n",
       "      <th>tipo_movimentacao</th>\n",
       "      <th>tipo_deficiencia</th>\n",
       "      <th>salario_mensal</th>\n",
       "      <th>indicador_aprendiz</th>\n",
       "    </tr>\n",
       "  </thead>\n",
       "  <tbody>\n",
       "    <tr>\n",
       "      <th>6</th>\n",
       "      <td>Admissão</td>\n",
       "      <td>Empregado - Contrato A Termo Firmado Nos Termo...</td>\n",
       "      <td>Superior Completo</td>\n",
       "      <td>41</td>\n",
       "      <td>16.0</td>\n",
       "      <td>Parda</td>\n",
       "      <td>Homem</td>\n",
       "      <td>Admissão não detalhada</td>\n",
       "      <td>Não Deficiente</td>\n",
       "      <td>3362.63</td>\n",
       "      <td>0</td>\n",
       "    </tr>\n",
       "    <tr>\n",
       "      <th>7</th>\n",
       "      <td>Admissão</td>\n",
       "      <td>Empregado - Geral, Inclusive O Empregado Públi...</td>\n",
       "      <td>Médio Incompleto</td>\n",
       "      <td>18</td>\n",
       "      <td>44.0</td>\n",
       "      <td>Não Informada</td>\n",
       "      <td>Homem</td>\n",
       "      <td>Admissão não detalhada</td>\n",
       "      <td>Não Deficiente</td>\n",
       "      <td>1320.00</td>\n",
       "      <td>0</td>\n",
       "    </tr>\n",
       "  </tbody>\n",
       "</table>\n",
       "</div>"
      ],
      "text/plain": [
       "  saldo_movimentacao                                          categoria  \\\n",
       "6           Admissão  Empregado - Contrato A Termo Firmado Nos Termo...   \n",
       "7           Admissão  Empregado - Geral, Inclusive O Empregado Públi...   \n",
       "\n",
       "      grau_instrucao  idade  horas_contratuais       raca_cor   sexo  \\\n",
       "6  Superior Completo     41               16.0          Parda  Homem   \n",
       "7   Médio Incompleto     18               44.0  Não Informada  Homem   \n",
       "\n",
       "        tipo_movimentacao tipo_deficiencia  salario_mensal  indicador_aprendiz  \n",
       "6  Admissão não detalhada   Não Deficiente         3362.63                   0  \n",
       "7  Admissão não detalhada   Não Deficiente         1320.00                   0  "
      ]
     },
     "execution_count": 24,
     "metadata": {},
     "output_type": "execute_result"
    }
   ],
   "source": [
    "adm_desc = caged_descrito[caged_descrito['saldo_movimentacao'] == 'Admissão']\n",
    "adm_desc.head(2)"
   ]
  },
  {
   "cell_type": "markdown",
   "id": "4928997b-49e3-483f-82ec-931a5fd605a1",
   "metadata": {},
   "source": [
    "#### Análise por raça/cor:"
   ]
  },
  {
   "cell_type": "code",
   "execution_count": 25,
   "id": "23ce3336-5d01-4b3c-863c-61b6b0667d4e",
   "metadata": {},
   "outputs": [
    {
     "data": {
      "text/plain": [
       "raca_cor\n",
       "Parda               2142\n",
       "Não Informada       1254\n",
       "Branca               654\n",
       "Preta                172\n",
       "Amarela               17\n",
       "Não Identificado      14\n",
       "Indígena              11\n",
       "Name: count, dtype: int64"
      ]
     },
     "execution_count": 25,
     "metadata": {},
     "output_type": "execute_result"
    }
   ],
   "source": [
    "desl_desc['raca_cor'].value_counts()"
   ]
  },
  {
   "cell_type": "code",
   "execution_count": 26,
   "id": "43c630bc-d6ca-4ceb-9a63-9c04ddd954b3",
   "metadata": {},
   "outputs": [
    {
     "data": {
      "text/plain": [
       "raca_cor\n",
       "Parda            2219\n",
       "Não Informada    2056\n",
       "Branca            641\n",
       "Preta             194\n",
       "Amarela            20\n",
       "Indígena            4\n",
       "Name: count, dtype: int64"
      ]
     },
     "execution_count": 26,
     "metadata": {},
     "output_type": "execute_result"
    }
   ],
   "source": [
    "adm_desc['raca_cor'].value_counts()"
   ]
  },
  {
   "cell_type": "code",
   "execution_count": 27,
   "id": "1b2bbefa-c2f6-40fa-8096-d99c00c85734",
   "metadata": {},
   "outputs": [
    {
     "data": {
      "text/plain": [
       "grau_instrucao           raca_cor        \n",
       "5ª Completo Fundamental  Parda                 26\n",
       "                         Não Informada         13\n",
       "                         Branca                 8\n",
       "                         Preta                  2\n",
       "6ª A 9ª Fundamental      Parda                 96\n",
       "                         Branca                32\n",
       "                         Não Informada         21\n",
       "                         Preta                  7\n",
       "                         Não Identificado       1\n",
       "Analfabeto               Não Informada          4\n",
       "                         Parda                  3\n",
       "Até 5ª Incompleto        Parda                 59\n",
       "                         Não Informada         24\n",
       "                         Preta                  7\n",
       "                         Branca                 6\n",
       "Doutorado                Branca                 2\n",
       "Fundamental Completo     Parda                148\n",
       "                         Não Informada         40\n",
       "                         Branca                34\n",
       "                         Preta                 14\n",
       "                         Amarela                1\n",
       "                         Não Identificado       1\n",
       "Mestrado                 Branca                 4\n",
       "                         Parda                  2\n",
       "                         Não Informada          1\n",
       "Médio Completo           Parda               1333\n",
       "                         Não Informada        970\n",
       "                         Branca               414\n",
       "                         Preta                100\n",
       "                         Amarela               11\n",
       "                         Não Identificado      11\n",
       "                         Indígena               6\n",
       "Médio Incompleto         Parda                181\n",
       "                         Não Informada         49\n",
       "                         Branca                32\n",
       "                         Preta                 14\n",
       "                         Indígena               4\n",
       "                         Amarela                2\n",
       "                         Não Identificado       1\n",
       "Pós-Graduação Completa   Parda                 20\n",
       "                         Branca                 8\n",
       "                         Não Informada          3\n",
       "                         Preta                  3\n",
       "                         Amarela                1\n",
       "Superior Completo        Parda                188\n",
       "                         Não Informada         85\n",
       "                         Branca                82\n",
       "                         Preta                 15\n",
       "                         Amarela                2\n",
       "Superior Incompleto      Parda                 86\n",
       "                         Não Informada         44\n",
       "                         Branca                32\n",
       "                         Preta                 10\n",
       "                         Indígena               1\n",
       "Name: count, dtype: int64"
      ]
     },
     "execution_count": 27,
     "metadata": {},
     "output_type": "execute_result"
    }
   ],
   "source": [
    "grau_i_desl = desl_desc.groupby('grau_instrucao')['raca_cor'].value_counts()\n",
    "grau_i_desl"
   ]
  },
  {
   "cell_type": "code",
   "execution_count": 28,
   "id": "15cf80b8-912d-4e33-a4f6-9d1475ca104e",
   "metadata": {},
   "outputs": [
    {
     "data": {
      "text/plain": [
       "grau_instrucao           raca_cor     \n",
       "5ª Completo Fundamental  Parda              29\n",
       "                         Não Informada      13\n",
       "                         Branca              7\n",
       "                         Preta               2\n",
       "6ª A 9ª Fundamental      Parda             111\n",
       "                         Não Informada      29\n",
       "                         Branca             16\n",
       "                         Preta               6\n",
       "Analfabeto               Parda               3\n",
       "                         Não Informada       3\n",
       "Até 5ª Incompleto        Parda              95\n",
       "                         Não Informada      40\n",
       "                         Branca              8\n",
       "Doutorado                Parda               2\n",
       "                         Branca              2\n",
       "                         Preta               1\n",
       "Fundamental Completo     Parda             102\n",
       "                         Não Informada      64\n",
       "                         Branca             29\n",
       "                         Preta               6\n",
       "                         Amarela             4\n",
       "Mestrado                 Branca              8\n",
       "                         Parda               7\n",
       "                         Não Informada       2\n",
       "                         Preta               1\n",
       "Médio Completo           Não Informada    1584\n",
       "                         Parda            1386\n",
       "                         Branca            410\n",
       "                         Preta             139\n",
       "                         Amarela            13\n",
       "                         Indígena            3\n",
       "Médio Incompleto         Parda             167\n",
       "                         Não Informada      80\n",
       "                         Branca             42\n",
       "                         Preta              16\n",
       "                         Amarela             1\n",
       "Pós-Graduação Completa   Parda              23\n",
       "                         Não Informada      23\n",
       "                         Branca              6\n",
       "Superior Completo        Parda             210\n",
       "                         Não Informada     180\n",
       "                         Branca             82\n",
       "                         Preta              15\n",
       "                         Amarela             2\n",
       "Superior Incompleto      Parda              84\n",
       "                         Não Informada      38\n",
       "                         Branca             31\n",
       "                         Preta               8\n",
       "                         Indígena            1\n",
       "Name: count, dtype: int64"
      ]
     },
     "execution_count": 28,
     "metadata": {},
     "output_type": "execute_result"
    }
   ],
   "source": [
    "grau_i_adm = adm_desc.groupby('grau_instrucao')['raca_cor'].value_counts()\n",
    "grau_i_adm"
   ]
  },
  {
   "cell_type": "code",
   "execution_count": 29,
   "id": "eda2f277-599b-4dfd-b9d7-a4f20fc10608",
   "metadata": {},
   "outputs": [
    {
     "data": {
      "text/plain": [
       "idade  raca_cor        \n",
       "29     Parda               102\n",
       "27     Parda                97\n",
       "26     Parda                95\n",
       "24     Parda                86\n",
       "25     Parda                81\n",
       "                          ... \n",
       "34     Não Identificado      1\n",
       "28     Amarela               1\n",
       "25     Amarela               1\n",
       "       Indígena              1\n",
       "34     Amarela               1\n",
       "Name: count, Length: 105, dtype: int64"
      ]
     },
     "execution_count": 29,
     "metadata": {},
     "output_type": "execute_result"
    }
   ],
   "source": [
    "idade_desl = desl_desc[['idade','raca_cor']]\n",
    "idade_desl[(idade_desl['idade'] < 40) & (idade_desl['idade'] > 19)].value_counts()"
   ]
  },
  {
   "cell_type": "code",
   "execution_count": 30,
   "id": "8b970ccd-b51b-4683-8b98-5bec84b0eeb3",
   "metadata": {},
   "outputs": [
    {
     "data": {
      "text/plain": [
       "idade  raca_cor     \n",
       "23     Não Informada    105\n",
       "24     Parda            103\n",
       "26     Parda             95\n",
       "24     Não Informada     94\n",
       "23     Parda             92\n",
       "                       ... \n",
       "35     Indígena           1\n",
       "24     Amarela            1\n",
       "       Indígena           1\n",
       "36     Amarela            1\n",
       "33     Amarela            1\n",
       "Name: count, Length: 96, dtype: int64"
      ]
     },
     "execution_count": 30,
     "metadata": {},
     "output_type": "execute_result"
    }
   ],
   "source": [
    "idade_adm = adm_desc[['idade','raca_cor']]\n",
    "idade_adm[(idade_adm['idade'] < 40) & (idade_adm['idade'] > 19)].value_counts()"
   ]
  },
  {
   "cell_type": "code",
   "execution_count": null,
   "id": "6aa07863-9d33-4801-8209-00e6b093788d",
   "metadata": {},
   "outputs": [],
   "source": []
  },
  {
   "cell_type": "code",
   "execution_count": 36,
   "id": "8dfac92c-5e13-4cdc-bbe8-b30a6c9cc1d8",
   "metadata": {},
   "outputs": [
    {
     "data": {
      "text/plain": [
       "horas_contratuais  raca_cor     \n",
       "44.0               Parda            1570\n",
       "                   Não Informada    1015\n",
       "Name: count, dtype: int64"
      ]
     },
     "execution_count": 36,
     "metadata": {},
     "output_type": "execute_result"
    }
   ],
   "source": [
    "horas_desl = desl_desc[['horas_contratuais', 'raca_cor']]\n",
    "horas_desl.value_counts().head(2)"
   ]
  },
  {
   "cell_type": "code",
   "execution_count": null,
   "id": "2ae1d3b0-b543-454a-9e1f-26661c973012",
   "metadata": {},
   "outputs": [],
   "source": [
    "pivot_table = horas_desl.pivot_table(index='raca_cor', columns= 'horas_contratuais', aggfunc='size', fill_value=0)\n",
    "porcentagens = pivot_table.div(pivot_table.sum(axis=1), axis=0) * 100\n",
    "porcentagens[porcentagens.columns[(porcentagens.columns > 35) & (porcentagens.columns < 45)]]"
   ]
  },
  {
   "cell_type": "code",
   "execution_count": null,
   "id": "779a6d80-4648-445d-b7cc-37c47b41554c",
   "metadata": {
    "scrolled": true
   },
   "outputs": [],
   "source": [
    "limite_minimo = 3\n",
    "\n",
    "# iterando sobre as racas\n",
    "for raca_cor in porcentagens.index:\n",
    "    # cria uma figura e eixos para cada raca (por isso o loop) e com tamanho determinado\n",
    "    fig, ax = plt.subplots(figsize=(7, 7))\n",
    "    \n",
    "    # filtra as porcentagens abaixo do limite minimo\n",
    "    porcentagens_filtradas = porcentagens.loc[raca_cor][porcentagens.loc[raca_cor] >= limite_minimo]\n",
    "\n",
    "    # cria um gráfico de pizza para a raca_cor atual usando as porcentagens filtradas\n",
    "    wedges, texts, autotexts = ax.pie(porcentagens_filtradas, labels=porcentagens_filtradas.index, autopct='%1.1f%%', startangle=90)\n",
    "\n",
    "    # ajusta a posicao dos rotulos e porcentagens\n",
    "    for text, autotext in zip(texts, autotexts):\n",
    "        text.set(size=10, weight='bold')\n",
    "        autotext.set(size=8, weight='bold')\n",
    "\n",
    "    # adiciona titulo para cada pizza usando a raca_cor atual\n",
    "    ax.set_title(f'Distribuição de Horas Contratuais para {raca_cor}')\n",
    "\n",
    "    # salva cada pizza com seu devido titulo em arquivo pdf\n",
    "    #plt.savefig(f'grafico_{raca_cor.lower()}.pdf')"
   ]
  },
  {
   "cell_type": "code",
   "execution_count": 70,
   "id": "f65bbb0e-865a-4399-867d-633255cf9de0",
   "metadata": {},
   "outputs": [
    {
     "data": {
      "text/plain": [
       "horas_contratuais  raca_cor     \n",
       "44.0               Não Informada    1650\n",
       "                   Parda            1494\n",
       "Name: count, dtype: int64"
      ]
     },
     "execution_count": 70,
     "metadata": {},
     "output_type": "execute_result"
    }
   ],
   "source": [
    "horas_adm = adm_desc[['horas_contratuais', 'raca_cor']]\n",
    "horas_adm.value_counts().head(2)"
   ]
  },
  {
   "cell_type": "code",
   "execution_count": 73,
   "id": "a1405c8d-2479-43f1-83b3-7f7945205562",
   "metadata": {},
   "outputs": [
    {
     "data": {
      "text/html": [
       "<div>\n",
       "<style scoped>\n",
       "    .dataframe tbody tr th:only-of-type {\n",
       "        vertical-align: middle;\n",
       "    }\n",
       "\n",
       "    .dataframe tbody tr th {\n",
       "        vertical-align: top;\n",
       "    }\n",
       "\n",
       "    .dataframe thead th {\n",
       "        text-align: right;\n",
       "    }\n",
       "</style>\n",
       "<table border=\"1\" class=\"dataframe\">\n",
       "  <thead>\n",
       "    <tr style=\"text-align: right;\">\n",
       "      <th>horas_contratuais</th>\n",
       "      <th>36.00</th>\n",
       "      <th>36.67</th>\n",
       "      <th>36.75</th>\n",
       "      <th>37.50</th>\n",
       "      <th>37.71</th>\n",
       "      <th>38.50</th>\n",
       "      <th>39.00</th>\n",
       "      <th>39.75</th>\n",
       "      <th>40.00</th>\n",
       "      <th>40.83</th>\n",
       "      <th>...</th>\n",
       "      <th>42.78</th>\n",
       "      <th>42.86</th>\n",
       "      <th>43.00</th>\n",
       "      <th>43.14</th>\n",
       "      <th>43.71</th>\n",
       "      <th>43.75</th>\n",
       "      <th>43.85</th>\n",
       "      <th>44.00</th>\n",
       "      <th>44.14</th>\n",
       "      <th>44.86</th>\n",
       "    </tr>\n",
       "    <tr>\n",
       "      <th>raca_cor</th>\n",
       "      <th></th>\n",
       "      <th></th>\n",
       "      <th></th>\n",
       "      <th></th>\n",
       "      <th></th>\n",
       "      <th></th>\n",
       "      <th></th>\n",
       "      <th></th>\n",
       "      <th></th>\n",
       "      <th></th>\n",
       "      <th></th>\n",
       "      <th></th>\n",
       "      <th></th>\n",
       "      <th></th>\n",
       "      <th></th>\n",
       "      <th></th>\n",
       "      <th></th>\n",
       "      <th></th>\n",
       "      <th></th>\n",
       "      <th></th>\n",
       "      <th></th>\n",
       "    </tr>\n",
       "  </thead>\n",
       "  <tbody>\n",
       "    <tr>\n",
       "      <th>Amarela</th>\n",
       "      <td>5.000000</td>\n",
       "      <td>0.000000</td>\n",
       "      <td>0.000000</td>\n",
       "      <td>0.000000</td>\n",
       "      <td>0.000000</td>\n",
       "      <td>0.000000</td>\n",
       "      <td>0.000000</td>\n",
       "      <td>0.000000</td>\n",
       "      <td>0.000000</td>\n",
       "      <td>0.000000</td>\n",
       "      <td>...</td>\n",
       "      <td>0.000000</td>\n",
       "      <td>0.000000</td>\n",
       "      <td>0.000000</td>\n",
       "      <td>0.000000</td>\n",
       "      <td>0.000000</td>\n",
       "      <td>0.000000</td>\n",
       "      <td>0.000000</td>\n",
       "      <td>75.000000</td>\n",
       "      <td>0.000000</td>\n",
       "      <td>0.000000</td>\n",
       "    </tr>\n",
       "    <tr>\n",
       "      <th>Branca</th>\n",
       "      <td>6.084243</td>\n",
       "      <td>0.000000</td>\n",
       "      <td>0.000000</td>\n",
       "      <td>0.000000</td>\n",
       "      <td>0.000000</td>\n",
       "      <td>0.468019</td>\n",
       "      <td>0.156006</td>\n",
       "      <td>0.000000</td>\n",
       "      <td>11.232449</td>\n",
       "      <td>0.156006</td>\n",
       "      <td>...</td>\n",
       "      <td>0.000000</td>\n",
       "      <td>0.000000</td>\n",
       "      <td>0.156006</td>\n",
       "      <td>0.156006</td>\n",
       "      <td>0.000000</td>\n",
       "      <td>0.780031</td>\n",
       "      <td>0.156006</td>\n",
       "      <td>51.170047</td>\n",
       "      <td>0.000000</td>\n",
       "      <td>0.156006</td>\n",
       "    </tr>\n",
       "    <tr>\n",
       "      <th>Indígena</th>\n",
       "      <td>0.000000</td>\n",
       "      <td>0.000000</td>\n",
       "      <td>0.000000</td>\n",
       "      <td>0.000000</td>\n",
       "      <td>0.000000</td>\n",
       "      <td>25.000000</td>\n",
       "      <td>0.000000</td>\n",
       "      <td>0.000000</td>\n",
       "      <td>25.000000</td>\n",
       "      <td>0.000000</td>\n",
       "      <td>...</td>\n",
       "      <td>0.000000</td>\n",
       "      <td>0.000000</td>\n",
       "      <td>0.000000</td>\n",
       "      <td>0.000000</td>\n",
       "      <td>0.000000</td>\n",
       "      <td>0.000000</td>\n",
       "      <td>0.000000</td>\n",
       "      <td>50.000000</td>\n",
       "      <td>0.000000</td>\n",
       "      <td>0.000000</td>\n",
       "    </tr>\n",
       "    <tr>\n",
       "      <th>Não Informada</th>\n",
       "      <td>3.891051</td>\n",
       "      <td>0.097276</td>\n",
       "      <td>0.000000</td>\n",
       "      <td>0.000000</td>\n",
       "      <td>0.000000</td>\n",
       "      <td>1.313230</td>\n",
       "      <td>0.048638</td>\n",
       "      <td>0.000000</td>\n",
       "      <td>2.821012</td>\n",
       "      <td>0.000000</td>\n",
       "      <td>...</td>\n",
       "      <td>0.000000</td>\n",
       "      <td>0.000000</td>\n",
       "      <td>0.000000</td>\n",
       "      <td>0.000000</td>\n",
       "      <td>0.048638</td>\n",
       "      <td>0.000000</td>\n",
       "      <td>0.000000</td>\n",
       "      <td>80.252918</td>\n",
       "      <td>0.048638</td>\n",
       "      <td>0.000000</td>\n",
       "    </tr>\n",
       "    <tr>\n",
       "      <th>Parda</th>\n",
       "      <td>2.388463</td>\n",
       "      <td>0.000000</td>\n",
       "      <td>0.045065</td>\n",
       "      <td>0.135196</td>\n",
       "      <td>0.045065</td>\n",
       "      <td>0.946372</td>\n",
       "      <td>0.045065</td>\n",
       "      <td>0.045065</td>\n",
       "      <td>8.877873</td>\n",
       "      <td>0.000000</td>\n",
       "      <td>...</td>\n",
       "      <td>0.090131</td>\n",
       "      <td>0.045065</td>\n",
       "      <td>0.135196</td>\n",
       "      <td>0.000000</td>\n",
       "      <td>0.000000</td>\n",
       "      <td>0.090131</td>\n",
       "      <td>0.000000</td>\n",
       "      <td>67.327625</td>\n",
       "      <td>0.000000</td>\n",
       "      <td>0.180261</td>\n",
       "    </tr>\n",
       "    <tr>\n",
       "      <th>Preta</th>\n",
       "      <td>1.030928</td>\n",
       "      <td>0.000000</td>\n",
       "      <td>0.000000</td>\n",
       "      <td>0.000000</td>\n",
       "      <td>0.000000</td>\n",
       "      <td>1.546392</td>\n",
       "      <td>0.000000</td>\n",
       "      <td>0.000000</td>\n",
       "      <td>6.701031</td>\n",
       "      <td>0.515464</td>\n",
       "      <td>...</td>\n",
       "      <td>0.000000</td>\n",
       "      <td>0.000000</td>\n",
       "      <td>0.000000</td>\n",
       "      <td>0.000000</td>\n",
       "      <td>0.000000</td>\n",
       "      <td>0.000000</td>\n",
       "      <td>0.000000</td>\n",
       "      <td>70.618557</td>\n",
       "      <td>0.000000</td>\n",
       "      <td>0.000000</td>\n",
       "    </tr>\n",
       "  </tbody>\n",
       "</table>\n",
       "<p>6 rows × 24 columns</p>\n",
       "</div>"
      ],
      "text/plain": [
       "horas_contratuais     36.00     36.67     36.75     37.50     37.71  \\\n",
       "raca_cor                                                              \n",
       "Amarela            5.000000  0.000000  0.000000  0.000000  0.000000   \n",
       "Branca             6.084243  0.000000  0.000000  0.000000  0.000000   \n",
       "Indígena           0.000000  0.000000  0.000000  0.000000  0.000000   \n",
       "Não Informada      3.891051  0.097276  0.000000  0.000000  0.000000   \n",
       "Parda              2.388463  0.000000  0.045065  0.135196  0.045065   \n",
       "Preta              1.030928  0.000000  0.000000  0.000000  0.000000   \n",
       "\n",
       "horas_contratuais      38.50     39.00     39.75      40.00     40.83  ...  \\\n",
       "raca_cor                                                               ...   \n",
       "Amarela             0.000000  0.000000  0.000000   0.000000  0.000000  ...   \n",
       "Branca              0.468019  0.156006  0.000000  11.232449  0.156006  ...   \n",
       "Indígena           25.000000  0.000000  0.000000  25.000000  0.000000  ...   \n",
       "Não Informada       1.313230  0.048638  0.000000   2.821012  0.000000  ...   \n",
       "Parda               0.946372  0.045065  0.045065   8.877873  0.000000  ...   \n",
       "Preta               1.546392  0.000000  0.000000   6.701031  0.515464  ...   \n",
       "\n",
       "horas_contratuais     42.78     42.86     43.00     43.14     43.71     43.75  \\\n",
       "raca_cor                                                                        \n",
       "Amarela            0.000000  0.000000  0.000000  0.000000  0.000000  0.000000   \n",
       "Branca             0.000000  0.000000  0.156006  0.156006  0.000000  0.780031   \n",
       "Indígena           0.000000  0.000000  0.000000  0.000000  0.000000  0.000000   \n",
       "Não Informada      0.000000  0.000000  0.000000  0.000000  0.048638  0.000000   \n",
       "Parda              0.090131  0.045065  0.135196  0.000000  0.000000  0.090131   \n",
       "Preta              0.000000  0.000000  0.000000  0.000000  0.000000  0.000000   \n",
       "\n",
       "horas_contratuais     43.85      44.00     44.14     44.86  \n",
       "raca_cor                                                    \n",
       "Amarela            0.000000  75.000000  0.000000  0.000000  \n",
       "Branca             0.156006  51.170047  0.000000  0.156006  \n",
       "Indígena           0.000000  50.000000  0.000000  0.000000  \n",
       "Não Informada      0.000000  80.252918  0.048638  0.000000  \n",
       "Parda              0.000000  67.327625  0.000000  0.180261  \n",
       "Preta              0.000000  70.618557  0.000000  0.000000  \n",
       "\n",
       "[6 rows x 24 columns]"
      ]
     },
     "execution_count": 73,
     "metadata": {},
     "output_type": "execute_result"
    }
   ],
   "source": [
    "pivot_hadm = horas_adm.pivot_table(index='raca_cor', columns= 'horas_contratuais', aggfunc='size', fill_value=0)\n",
    "porc_adm = pivot_hadm.div(pivot_hadm.sum(axis=1), axis=0) * 100\n",
    "porc_adm[porc_adm.columns[(porc_adm.columns > 35) & (porc_adm.columns < 45)]]"
   ]
  },
  {
   "cell_type": "code",
   "execution_count": null,
   "id": "8db474d6-9a33-478c-977f-0ffd252250b8",
   "metadata": {},
   "outputs": [],
   "source": [
    "#limite_minimo = 3\n",
    "\n",
    "# iterando sobre as racas\n",
    "for raca_cor in porc_adm.index:\n",
    "    # cria uma figura e eixos para cada raca (por isso o loop) e com tamanho determinado\n",
    "    fig, ax = plt.subplots(figsize=(7, 7))\n",
    "    \n",
    "    # filtra as porcentagens abaixo do limite minimo\n",
    "    porcentagens_filtradas_adm = porc_adm.loc[raca_cor][porc_adm.loc[raca_cor] >= limite_minimo]\n",
    "\n",
    "    # cria um gráfico de pizza para a raca_cor atual usando as porcentagens filtradas\n",
    "    wedges, texts, autotexts = ax.pie(porcentagens_filtradas_adm, labels=porcentagens_filtradas_adm.index, autopct='%1.1f%%', startangle=90)\n",
    "\n",
    "    # ajusta a posicao dos rotulos e porcentagens\n",
    "    for text, autotext in zip(texts, autotexts):\n",
    "        text.set(size=10, weight='bold')\n",
    "        autotext.set(size=8, weight='bold')\n",
    "\n",
    "    # adiciona titulo para cada pizza usando a raca_cor atual\n",
    "    ax.set_title(f'Distribuição de Horas Contratuais para {raca_cor}')\n",
    "\n",
    "    # salva cada pizza com seu devido titulo em arquivo pdf\n",
    "    #plt.savefig(f'grafico_adm_{raca_cor.lower()}.pdf')"
   ]
  },
  {
   "cell_type": "code",
   "execution_count": 77,
   "id": "71b9621a-5973-43eb-af78-6dc3b2aa3e98",
   "metadata": {},
   "outputs": [
    {
     "data": {
      "text/html": [
       "<div>\n",
       "<style scoped>\n",
       "    .dataframe tbody tr th:only-of-type {\n",
       "        vertical-align: middle;\n",
       "    }\n",
       "\n",
       "    .dataframe tbody tr th {\n",
       "        vertical-align: top;\n",
       "    }\n",
       "\n",
       "    .dataframe thead th {\n",
       "        text-align: right;\n",
       "    }\n",
       "</style>\n",
       "<table border=\"1\" class=\"dataframe\">\n",
       "  <thead>\n",
       "    <tr style=\"text-align: right;\">\n",
       "      <th></th>\n",
       "      <th>saldo_movimentacao</th>\n",
       "      <th>categoria</th>\n",
       "      <th>grau_instrucao</th>\n",
       "      <th>idade</th>\n",
       "      <th>horas_contratuais</th>\n",
       "      <th>raca_cor</th>\n",
       "      <th>sexo</th>\n",
       "      <th>tipo_movimentacao</th>\n",
       "      <th>tipo_deficiencia</th>\n",
       "      <th>salario_mensal</th>\n",
       "      <th>indicador_aprendiz</th>\n",
       "    </tr>\n",
       "  </thead>\n",
       "  <tbody>\n",
       "    <tr>\n",
       "      <th>0</th>\n",
       "      <td>Desligamento</td>\n",
       "      <td>Empregado - Geral, Inclusive O Empregado Públi...</td>\n",
       "      <td>Superior Incompleto</td>\n",
       "      <td>27</td>\n",
       "      <td>9.0</td>\n",
       "      <td>Não Informada</td>\n",
       "      <td>Mulher</td>\n",
       "      <td>Desligamento Por Demissão Sem Justa Causa</td>\n",
       "      <td>Não Deficiente</td>\n",
       "      <td>1850.0</td>\n",
       "      <td>0</td>\n",
       "    </tr>\n",
       "    <tr>\n",
       "      <th>1</th>\n",
       "      <td>Desligamento</td>\n",
       "      <td>Empregado - Geral, Inclusive O Empregado Públi...</td>\n",
       "      <td>Médio Incompleto</td>\n",
       "      <td>22</td>\n",
       "      <td>45.0</td>\n",
       "      <td>Parda</td>\n",
       "      <td>Homem</td>\n",
       "      <td>Desligamento Por Demissão Sem Justa Causa</td>\n",
       "      <td>Não Deficiente</td>\n",
       "      <td>1320.0</td>\n",
       "      <td>0</td>\n",
       "    </tr>\n",
       "  </tbody>\n",
       "</table>\n",
       "</div>"
      ],
      "text/plain": [
       "  saldo_movimentacao                                          categoria  \\\n",
       "0       Desligamento  Empregado - Geral, Inclusive O Empregado Públi...   \n",
       "1       Desligamento  Empregado - Geral, Inclusive O Empregado Públi...   \n",
       "\n",
       "        grau_instrucao  idade  horas_contratuais       raca_cor    sexo  \\\n",
       "0  Superior Incompleto     27                9.0  Não Informada  Mulher   \n",
       "1     Médio Incompleto     22               45.0          Parda   Homem   \n",
       "\n",
       "                           tipo_movimentacao tipo_deficiencia  salario_mensal  \\\n",
       "0  Desligamento Por Demissão Sem Justa Causa   Não Deficiente          1850.0   \n",
       "1  Desligamento Por Demissão Sem Justa Causa   Não Deficiente          1320.0   \n",
       "\n",
       "   indicador_aprendiz  \n",
       "0                   0  \n",
       "1                   0  "
      ]
     },
     "execution_count": 77,
     "metadata": {},
     "output_type": "execute_result"
    }
   ],
   "source": [
    "caged_descrito.head(2)"
   ]
  },
  {
   "cell_type": "markdown",
   "id": "14f76371-16c1-4f35-953c-7373180f1c5c",
   "metadata": {},
   "source": [
    "#### Sexo"
   ]
  },
  {
   "cell_type": "code",
   "execution_count": null,
   "id": "7a2bf20c-f0ef-4741-b9c8-ac5bcfe79689",
   "metadata": {},
   "outputs": [],
   "source": []
  }
 ],
 "metadata": {
  "kernelspec": {
   "display_name": "Python 3 (ipykernel)",
   "language": "python",
   "name": "python3"
  },
  "language_info": {
   "codemirror_mode": {
    "name": "ipython",
    "version": 3
   },
   "file_extension": ".py",
   "mimetype": "text/x-python",
   "name": "python",
   "nbconvert_exporter": "python",
   "pygments_lexer": "ipython3",
   "version": "3.11.3"
  }
 },
 "nbformat": 4,
 "nbformat_minor": 5
}
